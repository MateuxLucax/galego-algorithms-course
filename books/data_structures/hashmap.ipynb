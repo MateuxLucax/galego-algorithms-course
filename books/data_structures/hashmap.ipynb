{
 "cells": [
  {
   "cell_type": "markdown",
   "metadata": {},
   "source": [
    "# Hashmap\n",
    "\n",
    "Is basically a data structure that allows you to store key-value pairs. It is also known as a dictionary, map, or associative array. The key is unique and the value can be anything.\n",
    "\n",
    "`{}.get(\"mateus\") => \"o1\"`\n",
    "\n",
    "The time complexity of the operations should always be O(1), otherwise we would simply use an array.\n",
    "\n",
    "`[(\"mateus', \"o1\"), (\"ale\", \"o3\")]`\n",
    "\n",
    "## Hash Function\n",
    "\n",
    "This is what allows us to retrieve data in an \"O(1)\" time complexity. It will do an mathematical operation on the key and return the index where the value is stored.\n",
    "\n",
    "We could start by getting the module of the key length. But what would happen if there was a collision?\n",
    "\n",
    "## Load Factor\n",
    "\n",
    "Size difference between data we have and our data structure. For example, in an hashmap of up to 10 elements and 2 are filled, the load factor is 0.2.\n",
    "We aim to have a load factor of 0.7, so we can have a good balance between memory and time complexity. In most implementations, when the data reaches the 70% threshold, the hashmap will be doubled or resized and rehashed.\n",
    "When implementing a hashmap, we should always consider the load factor.\n",
    "\n",
    "## Collisions\n",
    "\n",
    "When two keys have the same hash, we have a collision. Instead of storing the value in the same index, we can store it in a linked list. This way, we can still retrieve the value in O(1) time complexity. Keep in mind that if the linked list is too long, the time complexity will increase."
   ]
  }
 ],
 "metadata": {
  "language_info": {
   "name": "python"
  }
 },
 "nbformat": 4,
 "nbformat_minor": 2
}
