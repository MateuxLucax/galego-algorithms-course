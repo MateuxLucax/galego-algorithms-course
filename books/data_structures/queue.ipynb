{
 "cells": [
  {
   "cell_type": "markdown",
   "metadata": {},
   "source": [
    "# Queue\n",
    "\n",
    "## FIFO (First In First Out)\n",
    "\n",
    "First element to be inserted is the first one to be removed. Commonly used in buffering or data streaming.\n",
    "\n",
    "### Linked list implementation (most common)\n",
    "\n",
    "```mermaid\n",
    "graph LR\n",
    "    A[Head] --> B[Node]\n",
    "    B --> C[Node]\n",
    "    C --> D[Node]\n",
    "    D --> E[Tail]\n",
    "```\n",
    "\n",
    "If we were to add a new element, we would add it to the tail. If we were to remove an element, we would remove it from the head. So no extra operations are needed to add or remove elements.\n",
    "\n",
    "## Dequeue (Double Ended Queue)\n",
    "\n",
    "A queue that allows insertion and removal of elements from both ends.\n",
    "\n",
    "## Example"
   ]
  },
  {
   "cell_type": "code",
   "execution_count": null,
   "metadata": {},
   "outputs": [
    {
     "name": "stdout",
     "output_type": "stream",
     "text": [
      "1\n",
      "2\n",
      "3\n"
     ]
    }
   ],
   "source": [
    "from queue import Queue\n",
    "from collections import deque\n",
    "\n",
    "queue = Queue()\n",
    "\n",
    "queue.put(1)\n",
    "queue.put(2)\n",
    "queue.put(3)\n",
    "\n",
    "print(queue.get()) # 1\n",
    "print(queue.get()) # 2\n",
    "print(queue.get()) # 3\n"
   ]
  }
 ],
 "metadata": {
  "kernelspec": {
   "display_name": ".venv",
   "language": "python",
   "name": "python3"
  },
  "language_info": {
   "codemirror_mode": {
    "name": "ipython",
    "version": 3
   },
   "file_extension": ".py",
   "mimetype": "text/x-python",
   "name": "python",
   "nbconvert_exporter": "python",
   "pygments_lexer": "ipython3",
   "version": "3.13.2"
  }
 },
 "nbformat": 4,
 "nbformat_minor": 2
}
