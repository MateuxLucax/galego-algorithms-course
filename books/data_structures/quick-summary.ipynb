{
 "cells": [
  {
   "cell_type": "markdown",
   "metadata": {},
   "source": [
    "# Data structures overview\n",
    "\n",
    "## Array\n",
    "\n",
    "Continuous memory block that stores elements.\n",
    "Example: `[0, 3, 4, 5, 8, 1]`\n",
    "- Access by index: Fast, O(1) because you point directly to the position.\n",
    "- Insert or remove at: O(n) because you need to shift it's elements to open up or fill in the gaps. Maybe it's even necessary to reallocate the array depending on it's memory disposition.\n",
    "\n",
    "## Hashmap:\n",
    "\n",
    "Dictionary, stores key-value data.\n",
    "- Insert, remove at or search an element: Usually a very fast operation O(1), because you will access the element directly by it's key. In the worst case scenario, it can be O(n) if all elements have the same hash and you need to iterate over all of them.\n",
    "\n",
    "## Linked list\n",
    "\n",
    "Each node points a element that knows the next element. To loop through the items, you start by it's head and follow the next pointers.\n",
    "- Insert or remove at beginning: O(1) because you just need to change the head pointer.\n",
    "- Insert or remove at middle or end: O(n) because you need to iterate over all elements to reach the last one.\n",
    "- Access an specific element: O(n) because you need to iterate over all elements to reach the desired one."
   ]
  }
 ],
 "metadata": {
  "language_info": {
   "name": "python"
  }
 },
 "nbformat": 4,
 "nbformat_minor": 2
}
