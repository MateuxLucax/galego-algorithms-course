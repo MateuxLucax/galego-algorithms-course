{
 "cells": [
  {
   "cell_type": "markdown",
   "metadata": {},
   "source": [
    "# Linked List\n",
    "\n",
    "This is a quite different object from an array. Traditionally, a linked list is a collection of pointers of elements, where each element points to the next one. This way, the elements are not necessarily contiguous in memory, and the list can grow or shrink without the need to reallocate memory. If we were also to store a pointer to the last element, we would have a doubly linked list.\n",
    "\n",
    "## Advantages vs. Disadvantages against arrays\n",
    "\n",
    "### Read\n",
    "\n",
    "Best case: In most cases we have the lead and tail element from the linked list, so we can access those elements in O(1).\n",
    "Worst case: However, if we were to search any other element, we can assume a O(n) complexity, since we would have to traverse the list from the beginning to the desired element.\n",
    "\n",
    "### Insert\n",
    "\n",
    "Best case: If we have the pointer to the element we want to insert after, we can do it in O(1).\n",
    "Worst case: If we don't have the pointer to the element we want to insert after, we can assume a O(n) complexity, since we would have to do a lookup to find the element.\n",
    "\n",
    "### Delete\n",
    "\n",
    "Best case: If we have the pointer to the element we want to delete, we can do it in O(1).\n",
    "Worst case: If we don't have the pointer to the element we want to delete, we can assume a O(n) complexity, same as the insert operation.\n",
    "\n",
    "### Summing up\n",
    "\n",
    "| | Read | Insert | Delete |\n",
    "| --- | --- | --- | --- |\n",
    "| Array | O(1) | O(n) | O(n) |\n",
    "| Linked List | O(n) | O(n) | O(n) |"
   ]
  }
 ],
 "metadata": {
  "language_info": {
   "name": "python"
  }
 },
 "nbformat": 4,
 "nbformat_minor": 2
}
